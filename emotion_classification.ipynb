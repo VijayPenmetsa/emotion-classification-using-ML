{
  "cells": [
    {
      "cell_type": "markdown",
      "metadata": {
        "id": "WtLQpTei91xn"
      },
      "source": [
        "###Imports"
      ]
    },
    {
      "cell_type": "code",
      "execution_count": null,
      "metadata": {
        "id": "7MFMW4zb-DYw"
      },
      "outputs": [],
      "source": [
        "# from google.colab import drive\n",
        "# drive.mount('/content/drive')"
      ]
    },
    {
      "cell_type": "code",
      "execution_count": null,
      "metadata": {
        "id": "EmbTa3aD91xo"
      },
      "outputs": [],
      "source": [
        "from sklearn.model_selection import train_test_split\n",
        "from sklearn.preprocessing import StandardScaler\n",
        "from sklearn.linear_model import LogisticRegression\n",
        "from sklearn.discriminant_analysis import LinearDiscriminantAnalysis\n",
        "from sklearn.neighbors import KNeighborsClassifier\n",
        "from sklearn.tree import DecisionTreeClassifier\n",
        "from sklearn.naive_bayes import GaussianNB\n",
        "from sklearn.ensemble import RandomForestClassifier\n",
        "from sklearn.svm import SVC\n",
        "from sklearn.model_selection import KFold\n",
        "from sklearn.model_selection import cross_val_score\n",
        "from sklearn.model_selection import StratifiedKFold\n",
        "from sklearn.model_selection import train_test_split, cross_val_score, GridSearchCV, StratifiedKFold\n",
        "from sklearn.ensemble import RandomForestClassifier\n",
        "from sklearn.metrics import f1_score, accuracy_score, roc_auc_score, plot_confusion_matrix, plot_roc_curve\n",
        "from sklearn.model_selection import GridSearchCV"
      ]
    },
    {
      "cell_type": "code",
      "execution_count": null,
      "metadata": {
        "id": "VWQsSEwL91xp"
      },
      "outputs": [],
      "source": [
        "import numpy as np\n",
        "import matplotlib.pyplot as plt\n",
        "from sys import getsizeof\n",
        "import pandas as pd\n",
        "import time\n",
        "import warnings\n",
        "from sklearn.exceptions import ConvergenceWarning\n",
        "from sklearn.metrics import confusion_matrix\n",
        "from sklearn.model_selection import KFold\n",
        "import itertools"
      ]
    },
    {
      "cell_type": "markdown",
      "metadata": {
        "id": "JkO8ScqK91xq"
      },
      "source": [
        "## Load dataset"
      ]
    },
    {
      "cell_type": "code",
      "execution_count": null,
      "metadata": {
        "id": "n5yzv07K91xq"
      },
      "outputs": [],
      "source": [
        "trainingset = np.loadtxt('/content/drive/MyDrive/My data files/dl midterm/training.csv', delimiter=',')\n",
        "testingset = np.loadtxt('/content/drive/MyDrive/My data files/dl midterm/test.csv', delimiter=',')"
      ]
    },
    {
      "cell_type": "markdown",
      "metadata": {
        "id": "ppXr1Dll91xr"
      },
      "source": [
        "## Split data"
      ]
    },
    {
      "cell_type": "code",
      "execution_count": null,
      "metadata": {
        "id": "ed9sSV3s91xs"
      },
      "outputs": [],
      "source": [
        "n_inputs = 2304 # images are 48 x 48\n",
        "n_classes = 7 # 7 classes - as defined below\n",
        "img_dim = 48 # each input image dimension, width and height are both 48\n",
        "\n",
        "x_training = trainingset[:, 0:n_inputs] # Extract the first 2304 elements - the image\n",
        "y_training = trainingset[:, n_inputs:n_inputs + n_classes] # Extract the last 7 elements - a one hot category encoding\n",
        "\n",
        "x_testing = testingset[:, 0:n_inputs] # Extract the first 2304 elements - the image\n",
        "y_testing = testingset[:, n_inputs:n_inputs + n_classes] # Extract the last 7 elements - a one hot category encoding\n",
        "\n",
        "x_training = x_training.reshape(x_training.shape[0], 48, 48) # Make samples image shaped\n",
        "x_testing = x_testing.reshape(x_testing.shape[0], 48, 48) # Make samples image shaped"
      ]
    },
    {
      "cell_type": "code",
      "execution_count": null,
      "metadata": {
        "colab": {
          "base_uri": "https://localhost:8080/"
        },
        "id": "uunSy6KL91xs",
        "outputId": "0ca46e2c-da5b-499c-e37b-d42fefc22cd1"
      },
      "outputs": [
        {
          "output_type": "execute_result",
          "data": {
            "text/plain": [
              "(28709, 48, 48)"
            ]
          },
          "metadata": {},
          "execution_count": 6
        }
      ],
      "source": [
        "x_training.shape"
      ]
    },
    {
      "cell_type": "code",
      "execution_count": null,
      "metadata": {
        "id": "Z11YFMc491xt"
      },
      "outputs": [],
      "source": [
        "def get_emotion(whichemotion):\n",
        "    if whichemotion.shape[0] == 1:\n",
        "        indx = whichemotion[0]\n",
        "    else:\n",
        "        indx = np.argmax(whichemotion)\n",
        "    if indx == 0:\n",
        "        return 'angry'\n",
        "    elif indx == 1:\n",
        "        return 'disgust'\n",
        "    elif indx == 2:\n",
        "        return 'fear'\n",
        "    elif indx == 3:\n",
        "        return 'happy'\n",
        "    elif indx == 4:\n",
        "        return 'sad'\n",
        "    elif indx == 5:\n",
        "        return 'surprise'\n",
        "    elif indx == 6:\n",
        "        return 'neutral'"
      ]
    },
    {
      "cell_type": "code",
      "execution_count": null,
      "metadata": {
        "colab": {
          "base_uri": "https://localhost:8080/",
          "height": 352
        },
        "id": "KLrFbuwi91xu",
        "outputId": "9e83be3e-1f1e-4b88-8ede-fdbbd835f985"
      },
      "outputs": [
        {
          "output_type": "stream",
          "name": "stdout",
          "text": [
            "(28709, 48, 48)\n",
            "(28709, 7)\n",
            "(3589, 48, 48)\n",
            "(3589, 7)\n"
          ]
        },
        {
          "output_type": "display_data",
          "data": {
            "text/plain": [
              "<Figure size 432x288 with 1 Axes>"
            ],
            "image/png": "[encoded data removed]"
          },
          "metadata": {
            "needs_background": "light"
          }
        },
        {
          "output_type": "stream",
          "name": "stdout",
          "text": [
            "facial emotion: angry\n"
          ]
        }
      ],
      "source": [
        "print(x_training.shape)\n",
        "print(y_training.shape)\n",
        "\n",
        "print(x_testing.shape)\n",
        "print(y_testing.shape)\n",
        "\n",
        "sampleindex = np.random.randint(0,1000)\n",
        "sample = x_training[sampleindex, :]\n",
        "sample = sample.reshape(48, 48)\n",
        "\n",
        "plt.imshow(sample, cmap='gray')\n",
        "plt.show()\n",
        "print('facial emotion: %s' % get_emotion(y_training[sampleindex, :]))"
      ]
    },
    {
      "cell_type": "markdown",
      "metadata": {
        "id": "O275fo3091xu"
      },
      "source": [
        "# Part I : Happy or Sad\n",
        "\n",
        "## For this part you will consider a binary classification problem - categorizing faces as happy or sad"
      ]
    },
    {
      "cell_type": "markdown",
      "metadata": {
        "id": "gdkT--jApNYr"
      },
      "source": [
        "### Saving the data sample containing only happy or sad faces. \n",
        "\n",
        "Saving them in happy_sad_x and happy_sad_y variables"
      ]
    },
    {
      "cell_type": "code",
      "execution_count": null,
      "metadata": {
        "id": "jG2eWrrd91xv"
      },
      "outputs": [],
      "source": [
        "x_data = np.concatenate([x_training, x_testing])\n",
        "y_data = np.concatenate([y_training, y_testing])\n",
        "\n",
        "new_x = []\n",
        "new_y = []\n",
        "    \n",
        "for i in range (0, len(y_data)):\n",
        "    if (get_emotion(y_data[i, :]) == 'happy' or get_emotion(y_data[i, :]) == 'sad'):\n",
        "        new_x.append(x_data[i, :])\n",
        "        new_y.append(y_data[i, :])\n",
        "    else:\n",
        "        pass\n",
        "   \n",
        "# sample containing only happy or sad faces\n",
        "happy_sad_x = np.array(new_x)\n",
        "happy_sad_y = np.array(new_y)"
      ]
    },
    {
      "cell_type": "code",
      "execution_count": null,
      "metadata": {
        "colab": {
          "base_uri": "https://localhost:8080/"
        },
        "id": "uobDlmn191xv",
        "outputId": "334e658a-5324-48aa-a823-0060ea2c768e"
      },
      "outputs": [
        {
          "output_type": "execute_result",
          "data": {
            "text/plain": [
              "(13593, 48, 48)"
            ]
          },
          "metadata": {},
          "execution_count": 10
        }
      ],
      "source": [
        "happy_sad_x.shape # Data with only happy and sad samples"
      ]
    },
    {
      "cell_type": "code",
      "execution_count": null,
      "metadata": {
        "colab": {
          "base_uri": "https://localhost:8080/"
        },
        "id": "XZ9jw0eV91xw",
        "outputId": "84a711f9-758b-4b06-bedb-fb33e636b1af"
      },
      "outputs": [
        {
          "output_type": "execute_result",
          "data": {
            "text/plain": [
              "(32298, 48, 48)"
            ]
          },
          "metadata": {},
          "execution_count": 11
        }
      ],
      "source": [
        "x_data.shape # Data with all emotions"
      ]
    },
    {
      "cell_type": "markdown",
      "metadata": {
        "collapsed": true,
        "id": "kWzRyVpL91xw"
      },
      "source": [
        "[4 Marks] b. Apply PCA and LDA to represent the faces, display a sample of a few faces for each case. You may consider using one or both of these in the steps that follow if they are of any value (this is for you to decide)."
      ]
    },
    {
      "cell_type": "markdown",
      "metadata": {
        "id": "sW4XyHGEEqy7"
      },
      "source": [
        "## ***Principal Component Analysis (P.C.A)***\n",
        "\n",
        "We use PCA to reduce the dimensionality if dataset. In this case we compress our image data.\n",
        "\n",
        "We have fit PCA twice for comparision, by changing the components parameters (2304 and 256)\n",
        "\n",
        "### In the following cells we can observe that PCA was able to achieve 95% variance using only 256 components as opposed to 2304 components"
      ]
    },
    {
      "cell_type": "code",
      "execution_count": null,
      "metadata": {
        "id": "NVXb9qcu91xx"
      },
      "outputs": [],
      "source": [
        "nsamples, nx, ny = happy_sad_x.shape\n",
        "happy_sad_dataset = happy_sad_x.reshape((nsamples,nx*ny))\n",
        "\n",
        "nsamples, nx, ny = x_data.shape\n",
        "x_data = x_data.reshape((nsamples,nx*ny))"
      ]
    },
    {
      "cell_type": "code",
      "execution_count": null,
      "metadata": {
        "colab": {
          "base_uri": "https://localhost:8080/",
          "height": 279
        },
        "id": "_lXH8S6891xx",
        "outputId": "09d0c7ec-8063-49f8-f307-4c174130faeb"
      },
      "outputs": [
        {
          "output_type": "display_data",
          "data": {
            "text/plain": [
              "<Figure size 432x288 with 1 Axes>"
            ],
            "image/png": "[encoded data removed]"
          },
          "metadata": {
            "needs_background": "light"
          }
        }
      ],
      "source": [
        "# Applying PCA while retaining 2304 components\n",
        "from sklearn.decomposition import PCA\n",
        "\n",
        "pca_2304 = PCA(n_components=2304)\n",
        "pca_2304.fit(happy_sad_dataset)\n",
        "\n",
        "plt.grid()\n",
        "plt.plot(np.cumsum(pca_2304.explained_variance_ratio_ * 100))\n",
        "plt.xlabel('Number of components')\n",
        "plt.ylabel('Explained variance')\n",
        "plt.savefig('Scree plot.png')"
      ]
    },
    {
      "cell_type": "code",
      "execution_count": null,
      "metadata": {
        "colab": {
          "base_uri": "https://localhost:8080/",
          "height": 279
        },
        "id": "DiRRqtl091xy",
        "outputId": "a64c195b-3303-4d77-8029-d790e553a6c5"
      },
      "outputs": [
        {
          "output_type": "display_data",
          "data": {
            "text/plain": [
              "<Figure size 432x288 with 1 Axes>"
            ],
            "image/png": "[encoded data removed]"
          },
          "metadata": {
            "needs_background": "light"
          }
        }
      ],
      "source": [
        "# Reducing the components to 256, which gives a good balance of information and efficiency\n",
        "pca = PCA(256)\n",
        "pca.fit(happy_sad_dataset)\n",
        "plt.grid()\n",
        "plt.plot(np.cumsum(pca.explained_variance_ratio_ * 100))\n",
        "plt.xlabel('Number of components')\n",
        "plt.ylabel('Explained variance')\n",
        "plt.savefig('Scree plot.png')"
      ]
    },
    {
      "cell_type": "code",
      "execution_count": null,
      "metadata": {
        "id": "veka8C4l91xy"
      },
      "outputs": [],
      "source": [
        "# Applying PCA on happpy_sad dataset\n",
        "happy_sad_components1 = pca_2304.transform(happy_sad_dataset)\n",
        "happy_sad_components2 = pca.transform(happy_sad_dataset)"
      ]
    },
    {
      "cell_type": "code",
      "execution_count": null,
      "metadata": {
        "colab": {
          "base_uri": "https://localhost:8080/"
        },
        "id": "7CX6-nxp91xz",
        "outputId": "49563d6e-b4fd-4026-b67f-43e6ce39cf0a"
      },
      "outputs": [
        {
          "data": {
            "text/plain": [
              "(13593, 2304)"
            ]
          },
          "execution_count": 14,
          "metadata": {},
          "output_type": "execute_result"
        }
      ],
      "source": [
        "happy_sad_components1.shape"
      ]
    },
    {
      "cell_type": "code",
      "execution_count": null,
      "metadata": {
        "colab": {
          "base_uri": "https://localhost:8080/"
        },
        "id": "RltzRQmW91xz",
        "outputId": "acc06c43-e2fb-4f6e-8e0c-ace9f987d0c8"
      },
      "outputs": [
        {
          "data": {
            "text/plain": [
              "(13593, 256)"
            ]
          },
          "execution_count": 15,
          "metadata": {},
          "output_type": "execute_result"
        }
      ],
      "source": [
        "happy_sad_components2.shape"
      ]
    },
    {
      "cell_type": "code",
      "execution_count": null,
      "metadata": {
        "colab": {
          "base_uri": "https://localhost:8080/"
        },
        "id": "cEcNiSlI91x0",
        "outputId": "86cc7449-cf87-48b5-81ff-d7320a05059d"
      },
      "outputs": [
        {
          "name": "stdout",
          "output_type": "stream",
          "text": [
            "250546296\n",
            "27838584\n"
          ]
        }
      ],
      "source": [
        "print(getsizeof(happy_sad_components1))\n",
        "print(getsizeof(happy_sad_components2))"
      ]
    },
    {
      "cell_type": "markdown",
      "metadata": {
        "id": "TH8XHf4Fr0De"
      },
      "source": [
        "# Samples of a face without PCA, with PCA retaining 2304 components, and with 256 components after PCA"
      ]
    },
    {
      "cell_type": "code",
      "execution_count": null,
      "metadata": {
        "colab": {
          "base_uri": "https://localhost:8080/",
          "height": 867
        },
        "id": "UTZQ7_5oITLF",
        "outputId": "48cbf301-747a-4dc2-cbc3-f5dfd6bee10f"
      },
      "outputs": [
        {
          "output_type": "display_data",
          "data": {
            "text/plain": [
              "<Figure size 432x288 with 1 Axes>"
            ],
            "image/png": "[encoded data removed]"
          },
          "metadata": {
            "needs_background": "light"
          }
        },
        {
          "output_type": "stream",
          "name": "stdout",
          "text": [
            "actual image\n",
            "\n"
          ]
        },
        {
          "output_type": "display_data",
          "data": {
            "text/plain": [
              "<Figure size 432x288 with 1 Axes>"
            ],
            "image/png": "[encoded data removed]"
          },
          "metadata": {
            "needs_background": "light"
          }
        },
        {
          "output_type": "stream",
          "name": "stdout",
          "text": [
            "PCA with 2304 components\n",
            "\n"
          ]
        },
        {
          "output_type": "display_data",
          "data": {
            "text/plain": [
              "<Figure size 432x288 with 1 Axes>"
            ],
            "image/png": "[encoded data removed]"
          },
          "metadata": {
            "needs_background": "light"
          }
        },
        {
          "output_type": "stream",
          "name": "stdout",
          "text": [
            "PCA with 256 components\n",
            "\n"
          ]
        }
      ],
      "source": [
        "sampleindex = 39\n",
        "sample = happy_sad_components2[sampleindex, :]\n",
        "sample = sample.reshape(16, 16)\n",
        "\n",
        "sample2 = happy_sad_components1[sampleindex, :]\n",
        "sample2 = sample2.reshape(48, 48)\n",
        "\n",
        "sample3 = x_training[sampleindex, :]\n",
        "sample3 = sample3.reshape(48, 48)\n",
        "\n",
        "plt.imshow(sample3, cmap='gray')\n",
        "plt.show()\n",
        "print('actual image\\n')\n",
        "\n",
        "plt.imshow(sample2, cmap='gray')\n",
        "plt.show()\n",
        "print('PCA with 2304 components\\n')\n",
        "\n",
        "plt.imshow(sample, cmap='gray')\n",
        "plt.show()\n",
        "print('PCA with 256 components\\n')"
      ]
    },
    {
      "cell_type": "markdown",
      "metadata": {
        "id": "nBBlSwT2EyyJ"
      },
      "source": [
        "## ***linear discriminant analysis (L.D.A)***"
      ]
    },
    {
      "cell_type": "code",
      "execution_count": null,
      "metadata": {
        "id": "mXAiNXptJQZB"
      },
      "outputs": [],
      "source": [
        "# Getting target variable for happy sad dataset\n",
        "h_s_df = pd.DataFrame(happy_sad_y, columns=['0','1','2','3','4','5','6'])\n",
        "hs_target = h_s_df['4'].tolist()\n",
        "\n",
        "X_train4, X_test4, y_train4, y_test4 = train_test_split(happy_sad_dataset, hs_target, test_size = 0.2, random_state = 42)"
      ]
    },
    {
      "cell_type": "code",
      "execution_count": null,
      "metadata": {
        "colab": {
          "base_uri": "https://localhost:8080/"
        },
        "id": "E63IHI3xEz_J",
        "outputId": "49b61174-fbe3-45e2-d4e0-ada2953f3d81"
      },
      "outputs": [
        {
          "output_type": "stream",
          "name": "stdout",
          "text": [
            "\n",
            " LDA Performance on happy_sad_dataset:\n",
            "accuracy, f1, ROC_AUC: [64.84280472459263, 55.35872644918525, 67.91730539794762]\n",
            "110.95700073242188 seconds\n"
          ]
        }
      ],
      "source": [
        "lda = LinearDiscriminantAnalysis()\n",
        "def get_results_lda_happy_sad(model):\n",
        "  accuracy = cross_val_score(model, X_train4, y_train4, scoring='accuracy').mean()\n",
        "  f1 = cross_val_score(model, X_train4, y_train4, scoring='f1').mean()\n",
        "  ROC_AUC = cross_val_score(model, X_train4, y_train4, scoring='roc_auc').mean()\n",
        "  return str([accuracy*100, f1*100, ROC_AUC*100])\n",
        "\n",
        "start = time.time()\n",
        "print('\\n LDA Performance on happy_sad_dataset:')\n",
        "print('accuracy, f1, ROC_AUC: '+str(get_results_lda_happy_sad(lda)))\n",
        "end = time.time()\n",
        "print(str(end-start)+' seconds')"
      ]
    },
    {
      "cell_type": "markdown",
      "metadata": {
        "id": "7DD7PyMKup6w"
      },
      "source": [
        "# ***Modeling with Naive Bayes, Logistic Regression, SVM***"
      ]
    },
    {
      "cell_type": "code",
      "execution_count": null,
      "metadata": {
        "id": "aSiew9ZkUNj5"
      },
      "outputs": [],
      "source": [
        "# Split into 80% training and 20% testing set\n",
        "X_train, X_test, y_train, y_test = train_test_split(happy_sad_components2, hs_target, test_size = 0.2, random_state = 42)\n",
        "\n",
        "X_train2, X_test2, y_train2, y_test2 = train_test_split(happy_sad_components1, hs_target, test_size = 0.2, random_state = 42)"
      ]
    },
    {
      "cell_type": "code",
      "execution_count": null,
      "metadata": {
        "id": "3lnrK7bDRfsI"
      },
      "outputs": [],
      "source": [
        "# Function for calculating accuracy, f1, roc_auc scores\n",
        "\n",
        "# Function for getting modeling results of happy_sad_dataset after applying PCA 256\n",
        "def get_results(model):\n",
        "  accuracy = cross_val_score(model, X_train, y_train, scoring='accuracy').mean()\n",
        "  f1 = cross_val_score(model, X_train, y_train, scoring='f1').mean()\n",
        "  ROC_AUC = cross_val_score(model, X_train, y_train, scoring='roc_auc').mean()\n",
        "  return [accuracy*100, f1*100, ROC_AUC*100]\n",
        "\n",
        "# Function for getting modeling results of happy_sad_dataset after before PCA 2304\n",
        "def get_results2(model):\n",
        "  accuracy = cross_val_score(model, X_train2, y_train2, scoring='accuracy').mean()\n",
        "  f1 = cross_val_score(model, X_train2, y_train2, scoring='f1').mean()\n",
        "  ROC_AUC = cross_val_score(model, X_train2, y_train2, scoring='roc_auc').mean()\n",
        "  return [accuracy*100, f1*100, ROC_AUC*100]\n",
        "\n",
        "# Function for getting modeling results of whole dataset after applying PCA.\n",
        "def get_results3(model):\n",
        "  accuracy = cross_val_score(model, X_train3, y_train3, scoring='accuracy').mean()\n",
        "  f1 = cross_val_score(model, X_train3, y_train3, scoring='f1').mean()\n",
        "  ROC_AUC = cross_val_score(model, X_train3, y_train3, scoring='roc_auc').mean()\n",
        "  return [accuracy*100, f1*100, ROC_AUC*100]"
      ]
    },
    {
      "cell_type": "code",
      "execution_count": null,
      "metadata": {
        "id": "Cv1CztYqVthJ"
      },
      "outputs": [],
      "source": [
        "# Models\n",
        "nb = GaussianNB()\n",
        "lg = LogisticRegression()\n",
        "svm = SVC()"
      ]
    },
    {
      "cell_type": "code",
      "execution_count": null,
      "metadata": {
        "colab": {
          "base_uri": "https://localhost:8080/"
        },
        "id": "irC8qoLq91x4",
        "outputId": "d35b181a-621c-4cdd-d574-83ad934a967c"
      },
      "outputs": [
        {
          "output_type": "stream",
          "name": "stdout",
          "text": [
            "Naive Bayes model performance with only 256 components:\n",
            "accuracy, f1, ROC_AUC: [59.72970846683373, 47.474381789551394, 61.46587652796439]\n",
            "0.7091066837310791 seconds\n",
            "\n",
            "Naive Bayesmodel performance with 2304 components:\n",
            "accuracy, f1, ROC_AUC: [55.04882149541604, 43.998730508256386, 54.38279241216056]\n",
            "4.829497337341309 seconds\n",
            "\n",
            "Logistic Regression model performance with 256 components:\n",
            "accuracy, f1, ROC_AUC: [68.44763506011485, 65.03194770412134, 75.39148815812314]\n",
            "3.5499722957611084 seconds\n",
            "\n",
            "Logistic Regression performance with 2304:\n",
            "accuracy, f1, ROC_AUC: [64.66804978375578, 61.29583183337104, 70.47389141504497]\n",
            "14.947932481765747 seconds\n"
          ]
        }
      ],
      "source": [
        "print('Naive Bayes model performance with only 256 components:')\n",
        "start = time.time()\n",
        "print('accuracy, f1, ROC_AUC: '+str(get_results(nb)))\n",
        "end = time.time()\n",
        "print(str(end-start)+' seconds')\n",
        "\n",
        "start = time.time()\n",
        "print('\\nNaive Bayesmodel performance with 2304 components:')\n",
        "warnings.simplefilter(\"ignore\", category=ConvergenceWarning)\n",
        "print('accuracy, f1, ROC_AUC: '+str(get_results2(nb)))\n",
        "end = time.time()\n",
        "print(str(end-start)+' seconds')\n",
        "\n",
        "print('\\nLogistic Regression model performance with 256 components:')\n",
        "start = time.time()\n",
        "print('accuracy, f1, ROC_AUC: '+str(get_results(lg)))\n",
        "end = time.time()\n",
        "print(str(end-start)+' seconds')\n",
        "\n",
        "start = time.time()\n",
        "print('\\nLogistic Regression performance with 2304:')\n",
        "print('accuracy, f1, ROC_AUC: '+str(get_results2(lg)))\n",
        "end = time.time()\n",
        "print(str(end-start)+' seconds')"
      ]
    },
    {
      "cell_type": "markdown",
      "source": [
        "Tried to change the parameters like 'C' value, gamma, and kernel, but we found no improvement, so we're proceeding default parameters"
      ],
      "metadata": {
        "id": "nfgcq_q0SlXO"
      }
    },
    {
      "cell_type": "code",
      "source": [
        "svm = SVC()\n",
        "svm.fit(X_train, y_train)\n",
        "y_pred = svm.predict(X_test)\n",
        "print(f\"The model is {accuracy_score(y_pred,y_test)*100}% accurate\")"
      ],
      "metadata": {
        "colab": {
          "base_uri": "https://localhost:8080/"
        },
        "id": "03AhRLwvQdip",
        "outputId": "a6d6839c-03de-4c9b-bfcf-aafbf946cc61"
      },
      "execution_count": null,
      "outputs": [
        {
          "output_type": "stream",
          "name": "stdout",
          "text": [
            "The model is 74.2184626700993% accurate\n"
          ]
        }
      ]
    },
    {
      "cell_type": "markdown",
      "metadata": {
        "id": "p_6GVEVMvyiB"
      },
      "source": [
        "As a standalone model LDA did a decent job of 64.84% accuracy, but overall PCA achieved better results when combined with Logistic Regression and SVM models with an accuracy over 68% and 74% respectively.\n",
        "\n",
        "Training time with PCA was significantly reduced because of the lesser number of components in the images.\n",
        "\n",
        "So we decided to go with PCA for rest of the job."
      ]
    },
    {
      "cell_type": "markdown",
      "metadata": {
        "id": "anti9CLn91x7"
      },
      "source": [
        "# Part II : Multi-class"
      ]
    },
    {
      "cell_type": "markdown",
      "metadata": {
        "id": "yoGdZytdL1fK"
      },
      "source": [
        "### Plotting the variance curve for all_emotions_componets dataset, and happy_sad_dataset.\n",
        "\n",
        "As we can see in the following figure, Both the curves are pretty much overlapping."
      ]
    },
    {
      "cell_type": "code",
      "execution_count": null,
      "metadata": {
        "id": "ZipSGrlyL69C"
      },
      "outputs": [],
      "source": [
        "pca2 = PCA(256)"
      ]
    },
    {
      "cell_type": "code",
      "execution_count": null,
      "metadata": {
        "colab": {
          "base_uri": "https://localhost:8080/",
          "height": 279
        },
        "id": "tZ8cMD3R91x8",
        "outputId": "3dd2d6d7-0fbd-472d-b32b-2554f8a673c9"
      },
      "outputs": [
        {
          "data": {
            "image/png": "[encoded data removed]",
            "text/plain": [
              "<Figure size 432x288 with 1 Axes>"
            ]
          },
          "metadata": {},
          "output_type": "display_data"
        }
      ],
      "source": [
        "# Applying PCA on the whole dataset\n",
        "pca.fit(x_data)\n",
        "all_emotions_components = pca.transform(x_data)\n",
        "\n",
        "pca2.fit(happy_sad_dataset)\n",
        "plt.grid()\n",
        "plt.plot(np.cumsum(pca.explained_variance_ratio_ * 100))\n",
        "plt.plot(np.cumsum(pca2.explained_variance_ratio_ * 100))\n",
        "plt.xlabel('Number of components')\n",
        "plt.ylabel('Explained variance')\n",
        "plt.savefig('Scree plot.png')"
      ]
    },
    {
      "cell_type": "code",
      "execution_count": null,
      "metadata": {
        "colab": {
          "base_uri": "https://localhost:8080/",
          "height": 586
        },
        "id": "pAG8Z4CUOxDj",
        "outputId": "2a4db28e-2520-4461-d9a4-6c74b67a121c"
      },
      "outputs": [
        {
          "data": {
            "image/png": "[encoded data removed]",
            "text/plain": [
              "<Figure size 432x288 with 1 Axes>"
            ]
          },
          "metadata": {},
          "output_type": "display_data"
        },
        {
          "name": "stdout",
          "output_type": "stream",
          "text": [
            "PCA with 256 components\n",
            "\n"
          ]
        },
        {
          "data": {
            "image/png": "[encoded data removed]",
            "text/plain": [
              "<Figure size 432x288 with 1 Axes>"
            ]
          },
          "metadata": {},
          "output_type": "display_data"
        },
        {
          "name": "stdout",
          "output_type": "stream",
          "text": [
            "Original Image\n",
            "\n"
          ]
        }
      ],
      "source": [
        "# Images samples from all_emotions dataset, with and without PCA\n",
        "sampleindex = 50\n",
        "sample = all_emotions_components[sampleindex, :]\n",
        "sample = sample.reshape(16, 16)\n",
        "\n",
        "sample2 = x_data[sampleindex, :]\n",
        "sample2 = sample2.reshape(48, 48)\n",
        "\n",
        "\n",
        "plt.imshow(sample, cmap='gray')\n",
        "plt.show()\n",
        "print('PCA with 256 components\\n')\n",
        "\n",
        "plt.imshow(sample2, cmap='gray')\n",
        "plt.show()\n",
        "print('Original Image\\n')"
      ]
    },
    {
      "cell_type": "markdown",
      "metadata": {
        "id": "CsHRz6VyPZQa"
      },
      "source": [
        "## LDA on all emotions"
      ]
    },
    {
      "cell_type": "code",
      "execution_count": null,
      "metadata": {
        "id": "bHKV2Xzu6oi9"
      },
      "outputs": [],
      "source": [
        "# function for reverse one-hot from a df\n",
        "def reverse_onehot(row):\n",
        "  for c in full_df.columns:\n",
        "    if row[c]==1:\n",
        "      return c\n",
        "\n",
        "\n",
        "# Getting target variable for all emotions dataset\n",
        "full_df = pd.DataFrame(y_data, columns=['0','1','2','3','4','5','6'])\n",
        "full_df = full_df.apply(reverse_onehot, axis=1)\n",
        "l = full_df.tolist()\n",
        "multi_class_targets = [] \n",
        "for i in range (0, len(l)):\n",
        "  val = int(l[i])\n",
        "  multi_class_targets.append(val)\n",
        "\n",
        "X_train3, X_test3, y_train3, y_test3 = train_test_split(all_emotions_components, multi_class_targets, test_size = 0.2, random_state = 42)"
      ]
    },
    {
      "cell_type": "code",
      "execution_count": null,
      "metadata": {
        "colab": {
          "base_uri": "https://localhost:8080/"
        },
        "id": "cYn25fzQQDYr",
        "outputId": "7e283f42-1ae1-4632-ed52-0d3e5529a62e"
      },
      "outputs": [
        {
          "name": "stdout",
          "output_type": "stream",
          "text": [
            "\n",
            " LDA Performance on happy_sad_dataset:\n",
            "4.262787580490112 seconds\n",
            "Accuracy of LDA on multiclass dataset is:  36.70562425514143\n"
          ]
        }
      ],
      "source": [
        "lda = LinearDiscriminantAnalysis()\n",
        "def get_results_lda(model):\n",
        "  accuracy = cross_val_score(model, X_train3, y_train3, scoring='accuracy').mean()\n",
        "  return accuracy\n",
        "\n",
        "start = time.time()\n",
        "print('\\n LDA Performance on happy_sad_dataset:')\n",
        "warnings.simplefilter(\"ignore\", category=ConvergenceWarning)\n",
        "accuracy = get_results_lda(lda);\n",
        "end = time.time()\n",
        "print(str(end-start)+' seconds')\n",
        "print('Accuracy of LDA on multiclass dataset is: ', accuracy*100)"
      ]
    },
    {
      "cell_type": "code",
      "execution_count": null,
      "metadata": {
        "colab": {
          "base_uri": "https://localhost:8080/"
        },
        "id": "s91AeRjH91x8",
        "outputId": "e6a8cea0-d7cb-4f9b-ce90-ab0e5b269557"
      },
      "outputs": [
        {
          "name": "stdout",
          "output_type": "stream",
          "text": [
            "Accuracy is:  24.84708267098717\n"
          ]
        }
      ],
      "source": [
        "# Naive Bayes\n",
        "def get_result(model):\n",
        "  accuracy = cross_val_score(model, X_train3, y_train3, scoring='accuracy').mean()\n",
        "  return accuracy\n",
        "acc = get_result(nb)*100\n",
        "\n",
        "print('Accuracy is: ', acc)"
      ]
    },
    {
      "cell_type": "markdown",
      "metadata": {
        "id": "-ncuCt5f91x8"
      },
      "source": [
        "#Visualize the results of your classifier on the test set using a confusion matrix. Describe briefly how the multi-class nature of the problem is treated by the classifier.\n",
        "\n",
        "###From the figure below, we can see that Naive Bayes has the least accuracy of 24%, and most of the accuracy is coming from 3 classes 1, 2, and 3, which are disgust, fear, and happy. \n",
        "\n",
        "###Naive Bayes also got the least accuracy with binary classification but atleast it gave acceptable performance compared to multi-class classification."
      ]
    },
    {
      "cell_type": "code",
      "execution_count": null,
      "metadata": {
        "colab": {
          "base_uri": "https://localhost:8080/",
          "height": 329
        },
        "id": "-G4WzOHQ91x8",
        "outputId": "0128b435-9790-44c8-c600-fd3106fe6ac4"
      },
      "outputs": [
        {
          "name": "stdout",
          "output_type": "stream",
          "text": [
            "Normalized confusion matrix\n"
          ]
        },
        {
          "data": {
            "image/png": "[encoded data removed]",
            "text/plain": [
              "<Figure size 432x288 with 2 Axes>"
            ]
          },
          "metadata": {},
          "output_type": "display_data"
        }
      ],
      "source": [
        "def evaluate_model(data_x, data_y, model):\n",
        "  k_fold = KFold(10, shuffle=True, random_state=1)\n",
        "\n",
        "  predicted_targets = np.array([])\n",
        "  actual_targets = np.array([])\n",
        "\n",
        "  train_x, train_y, test_x, test_y = X_train3,  y_train3, X_test3, y_test3\n",
        "\n",
        "  \n",
        "        \n",
        "    # Fit the classifier\n",
        "  classifier = model.fit(train_x, train_y)\n",
        "\n",
        "    # Predict the labels of the test set samples\n",
        "  predicted_labels = classifier.predict(test_x)\n",
        "\n",
        "  predicted_targets = np.append(predicted_targets, predicted_labels)\n",
        "  actual_targets = np.append(actual_targets, test_y)\n",
        "\n",
        "  return predicted_targets, actual_targets \n",
        "\n",
        "def generate_confusion_matrix(cnf_matrix, classes, normalize=False, title='Confusion matrix'):\n",
        "    if normalize:\n",
        "        cnf_matrix = cnf_matrix.astype('float') / cnf_matrix.sum(axis=1)[:, np.newaxis]\n",
        "        print(\"Normalized confusion matrix\")\n",
        "    else:\n",
        "        print('Confusion matrix, without normalization')\n",
        "\n",
        "    plt.imshow(cnf_matrix, interpolation='nearest', cmap=plt.get_cmap('Blues'))\n",
        "    plt.title(title)\n",
        "    plt.colorbar()\n",
        "\n",
        "    tick_marks = np.arange(len(classes))\n",
        "    plt.xticks(tick_marks, classes, rotation=45)\n",
        "    plt.yticks(tick_marks, classes)\n",
        "\n",
        "    fmt = '.2f' if normalize else 'd'\n",
        "    thresh = cnf_matrix.max() / 2.\n",
        "\n",
        "    for i, j in itertools.product(range(cnf_matrix.shape[0]), range(cnf_matrix.shape[1])):\n",
        "        plt.text(j, i, format(cnf_matrix[i, j], fmt), horizontalalignment=\"center\",\n",
        "                 color=\"white\" if cnf_matrix[i, j] > thresh else \"black\")\n",
        "\n",
        "    plt.tight_layout()\n",
        "    plt.ylabel('True label')\n",
        "    plt.xlabel('Predicted label')\n",
        "\n",
        "    return cnf_matrix\n",
        "\n",
        "def plot_confusion_matrix(predicted_labels_list, y_test_list):\n",
        "    cnf_matrix = confusion_matrix(y_test_list, predicted_labels_list)\n",
        "    np.set_printoptions(precision=2)\n",
        "\n",
        "    # Plot normalized confusion matrix\n",
        "    plt.figure()\n",
        "    generate_confusion_matrix(cnf_matrix, classes=['0','1','2','3','4','5','6'], normalize=True, title='Normalized confusion matrix')\n",
        "    plt.show()\n",
        "\n",
        "pred_targets, actu_targets = evaluate_model(all_emotions_components, multi_class_targets, nb)\n",
        "plot_confusion_matrix(pred_targets, actu_targets)"
      ]
    },
    {
      "cell_type": "code",
      "execution_count": null,
      "metadata": {
        "colab": {
          "base_uri": "https://localhost:8080/"
        },
        "id": "TNgv3zVy91x9",
        "outputId": "cc82670a-7eea-49bd-ddc3-89c3a7e8c2d8"
      },
      "outputs": [
        {
          "name": "stdout",
          "output_type": "stream",
          "text": [
            "Accuracy for logitsttic regression on multiclass dataset is:  35.467151774688254\n"
          ]
        }
      ],
      "source": [
        "acc = get_result(lg)*100\n",
        "\n",
        "print('Accuracy for logitsttic regression on multiclass dataset is: ', acc)"
      ]
    },
    {
      "cell_type": "markdown",
      "metadata": {
        "id": "wGy5oKQa91x9"
      },
      "source": [
        "\n",
        "\n",
        "##Accuracy for logistic regression on multi-class is 35% which is better than Naive Bayes, but still not acceptable.\n",
        "\n",
        "##From the figure below we can see that the model's highest performance comes from class 3, and 5, which are happy and surprise. The performance is not bad with over 50% but overall when we consider all the classes, the model performed poorly."
      ]
    },
    {
      "cell_type": "code",
      "execution_count": null,
      "metadata": {
        "colab": {
          "base_uri": "https://localhost:8080/",
          "height": 329
        },
        "id": "XtfgzG1J91x9",
        "outputId": "0bfc1b05-173e-4032-ea43-e5c5634b133a"
      },
      "outputs": [
        {
          "name": "stdout",
          "output_type": "stream",
          "text": [
            "Normalized confusion matrix\n"
          ]
        },
        {
          "data": {
            "image/png": "[encoded data removed]",
            "text/plain": [
              "<Figure size 432x288 with 2 Axes>"
            ]
          },
          "metadata": {},
          "output_type": "display_data"
        }
      ],
      "source": [
        "# Confusion matrix for logistic regression\n",
        "pred_targets, actu_targets = evaluate_model(all_emotions_components, multi_class_targets, lg)\n",
        "plot_confusion_matrix(pred_targets, actu_targets)"
      ]
    },
    {
      "cell_type": "code",
      "execution_count": null,
      "metadata": {
        "colab": {
          "base_uri": "https://localhost:8080/"
        },
        "id": "U4EKA2ql91x-",
        "outputId": "03be4c35-55fe-4654-9a1e-8cf55d7fc758"
      },
      "outputs": [
        {
          "name": "stdout",
          "output_type": "stream",
          "text": [
            "Accuracy for SVM on multiclass dataset is:  42.86321086245709\n"
          ]
        }
      ],
      "source": [
        "acc = get_result(svm)*100\n",
        "print('Accuracy for SVM on multiclass dataset is: ', acc)"
      ]
    },
    {
      "cell_type": "code",
      "execution_count": null,
      "metadata": {
        "colab": {
          "base_uri": "https://localhost:8080/",
          "height": 329
        },
        "id": "AEjlj92BEY2q",
        "outputId": "d330f34a-a444-4ae4-c24f-4345e3661ab8"
      },
      "outputs": [
        {
          "name": "stdout",
          "output_type": "stream",
          "text": [
            "Normalized confusion matrix\n"
          ]
        },
        {
          "data": {
            "image/png": "[encoded data removed]",
            "text/plain": [
              "<Figure size 432x288 with 2 Axes>"
            ]
          },
          "metadata": {},
          "output_type": "display_data"
        }
      ],
      "source": [
        "pred_targets, actu_targets = evaluate_model(all_emotions_components, multi_class_targets, svm)\n",
        "plot_confusion_matrix(pred_targets, actu_targets)"
      ]
    },
    {
      "cell_type": "markdown",
      "metadata": {
        "id": "9h5NYRvc91x-"
      },
      "source": [
        "\n",
        "out of all the models svm has the highest accuracy of 42%, but only one class has good performance which is 3 (happy). 4, 5, and 6 classes were a bit more consistent compared to the previous models, but 0, 1, and 2 did poorly."
      ]
    },
    {
      "cell_type": "markdown",
      "metadata": {
        "id": "BudaucHG91x-"
      },
      "source": [
        "\n",
        "**LEAST SIMILAR:**\n",
        "- For SVM and Logistic regression the (1) disgust faces were the least similar to other classes.\n",
        "- But for naive bayes (5) surprise is the least similar to all classes.\n",
        "\n",
        "\n",
        "**HIGHLY SIMILAR:**\n",
        "- For SVM and Logistic regression the (3) happy faces were the most similar faces to other classes.\n",
        "- But for naive bayes (2) fear was most similar to other classes.\n",
        "\n"
      ]
    },
    {
      "cell_type": "code",
      "source": [
        ""
      ],
      "metadata": {
        "id": "5en4XqEm92oD"
      },
      "execution_count": null,
      "outputs": []
    }
  ],
  "metadata": {
    "anaconda-cloud": {},
    "colab": {
      "background_execution": "on",
      "collapsed_sections": [
        "wVorMzTL91x7"
      ],
      "machine_shape": "hm",
      "name": "emotion_classification.ipynb",
      "provenance": []
    },
    "kernelspec": {
      "display_name": "Python 3",
      "language": "python",
      "name": "python3"
    },
    "language_info": {
      "codemirror_mode": {
        "name": "ipython",
        "version": 3
      },
      "file_extension": ".py",
      "mimetype": "text/x-python",
      "name": "python",
      "nbconvert_exporter": "python",
      "pygments_lexer": "ipython3",
      "version": "3.8.8"
    },
    "accelerator": "GPU"
  },
  "nbformat": 4,
  "nbformat_minor": 0
}